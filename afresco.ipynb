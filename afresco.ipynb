{
  "nbformat": 4,
  "nbformat_minor": 0,
  "metadata": {
    "colab": {
      "provenance": [],
      "collapsed_sections": [],
      "authorship_tag": "ABX9TyOpaYbdLlCRemYK7vnoF07o",
      "include_colab_link": true
    },
    "kernelspec": {
      "name": "python3",
      "display_name": "Python 3"
    },
    "language_info": {
      "name": "python"
    }
  },
  "cells": [
    {
      "cell_type": "markdown",
      "metadata": {
        "id": "view-in-github",
        "colab_type": "text"
      },
      "source": [
        "<a href=\"https://colab.research.google.com/github/ModernaCyber/Document-Management-Service/blob/master/afresco.ipynb\" target=\"_parent\"><img src=\"https://colab.research.google.com/assets/colab-badge.svg\" alt=\"Open In Colab\"/></a>"
      ]
    },
    {
      "cell_type": "code",
      "execution_count": 3,
      "metadata": {
        "colab": {
          "base_uri": "https://localhost:8080/"
        },
        "id": "9DMQH2HFQB2-",
        "outputId": "5a01e54f-efa8-4105-f86a-18fd7875e5f4"
      },
      "outputs": [
        {
          "output_type": "stream",
          "name": "stdout",
          "text": [
            "{\"entry\":{\"isLink\":false,\"path\":{\"name\":\"/Company Home/Tests/Tests/My Folder test/xyz\",\"isComplete\":true,\"elements\":[{\"id\":\"627cc058-86a9-4fdc-b848-764271ec7713\",\"name\":\"Company Home\"},{\"id\":\"baa8e1f6-7df8-4755-a158-2d0b24fda85c\",\"name\":\"Tests\"},{\"id\":\"b286ba73-453b-4d45-9c65-3934ab62be94\",\"name\":\"Tests\"},{\"id\":\"3af0856f-a584-4493-9251-7c98c97adddf\",\"name\":\"My Folder test\"},{\"id\":\"a0d98acb-700e-4432-893d-ae1805af6f1d\",\"name\":\"xyz\"}]},\"permissions\":{\"inherited\":[{\"authorityId\":\"GROUP_EVERYONE\",\"name\":\"Consumer\",\"accessStatus\":\"ALLOWED\"}],\"settable\":[\"Contributor\",\"Collaborator\",\"Coordinator\",\"Editor\",\"Consumer\"],\"isInheritanceEnabled\":true},\"isLocked\":false,\"association\":{\"isPrimary\":true,\"assocType\":\"cm:contains\"},\"allowableOperations\":[\"delete\",\"update\",\"updatePermissions\"]}}\n"
          ]
        }
      ],
      "source": [
        "import requests\n",
        "\n",
        "url =''
        "\n",
        "payload={'name': 'aa.png',\n",
        "'nodeType': 'cm:content',\n",
        "'renditions': 'true',\n",
        "'overwrite': 'false',\n",
        "'comment': 'comment added version',\n",
        "'autoRename': 'true',\n",
        "'relativePath': 'Tests/My Folder test/xyz'}\n",
        "files=[\n",
        "  ('filedata',('FC6.docx',open('/content/aa.png','rb'),'application/vnd.openxmlformats-officedocument.wordprocessingml.document'))\n",
        "]\n",
        "headers = {\n",
        "  'Authorization': 'Basic 2s='\n",
        "}\n",
        "\n",
        "response = requests.request(\"POST\", url, headers=headers, data=payload, files=files)\n",
        "\n",
        "print(response.text)\n"
      ]
    }
  ]
}
